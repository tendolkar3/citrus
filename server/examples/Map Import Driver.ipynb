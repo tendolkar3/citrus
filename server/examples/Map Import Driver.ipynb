{
 "cells": [
  {
   "cell_type": "code",
   "execution_count": 1,
   "metadata": {},
   "outputs": [
    {
     "data": {
      "image/png": "[encoded data removed]",
      "text/plain": [
       "<matplotlib.figure.Figure at 0x116d9b630>"
      ]
     },
     "metadata": {},
     "output_type": "display_data"
    },
    {
     "data": {
      "text/plain": [
       "(<matplotlib.figure.Figure at 0x116d9b630>,\n",
       " <matplotlib.axes._subplots.AxesSubplot at 0x11761e0f0>)"
      ]
     },
     "execution_count": 1,
     "metadata": {},
     "output_type": "execute_result"
    }
   ],
   "source": [
    "import osmnx as ox\n",
    "\n",
    "address = '567 Stinchcomb Drive, Columbus, Ohio'\n",
    "distance=300\n",
    "network_type='drive'\n",
    "\n",
    "G = ox.project_graph(ox.graph_from_address(address, distance))\n",
    "ox.plot_graph(G)"
   ]
  },
  {
   "cell_type": "code",
   "execution_count": 2,
   "metadata": {},
   "outputs": [],
   "source": [
    "import math\n",
    "from shapely.geometry import Point, LineString, Polygon\n",
    "from shapely.affinity import rotate\n",
    "import networkx as nx\n",
    "import os\n",
    "import sys\n",
    "module_path = os.path.abspath(os.path.join('..'))\n",
    "if module_path not in sys.path:\n",
    "    sys.path.append(module_path)\n",
    "from core.lib.maps.map import Intersection, Road, RoadString, Node, SubNode"
   ]
  },
  {
   "cell_type": "code",
   "execution_count": 3,
   "metadata": {},
   "outputs": [],
   "source": [
    "\n",
    "\n",
    "def convert_to_traffic_graph(intersections_inp, roads_inp):\n",
    "    \"\"\"\n",
    "\n",
    "    :param intersections_inp: dict with intersection ID as key and the tuple (x,y) as value\n",
    "    :param roads_inp: dict with road ID as key and the intersection tuple(id1, id2) as value. Directed road.\n",
    "    :return: ToDo\n",
    "    \"\"\"\n",
    "\n",
    "    intersections_table = dict.fromkeys(intersections_inp.keys())\n",
    "    roads_table = dict.fromkeys(roads_inp.keys())\n",
    "    tg = nx.DiGraph()\n",
    "\n",
    "    for r_id, r in roads_inp.items():\n",
    "        if intersections_table[r[0]] is None:\n",
    "            I = intersections_inp[r[0]]\n",
    "            intersections_table[r[0]] = Intersection(point_x=I[0], point_y=I[1], osmid=r[0])\n",
    "\n",
    "        if intersections_table[r[1]] is None:\n",
    "            I = intersections_inp[r[1]]\n",
    "            intersections_table[r[1]] = Intersection(point_x=I[0], point_y=I[1], osmid=r[1])\n",
    "\n",
    "#         print(r_id)\n",
    "        if roads_table[r_id] is None:\n",
    "#             print('yes')\n",
    "            line_string = LineString([intersections_inp[r[0]], intersections_inp[r[1]]])\n",
    "            road, start_node, end_node = create_road(start_intersection=intersections_table[r[0]],\n",
    "                                                     end_intersection=intersections_table[r[1]],\n",
    "                                                     name=None, osmid=r_id, road_string=RoadString(line_string))\n",
    "            tg.add_node(start_node.get_id(), object=start_node)\n",
    "            tg.add_node(end_node.get_id(), object=end_node)\n",
    "            tg.add_edges_from([(start_node.get_id(), end_node.get_id(), {'object': road,\n",
    "                                                                         'distance': road.get_road_length(),\n",
    "                                                                         'traffic': None})])\n",
    "\n",
    "            road, start_node, end_node = create_road(start_intersection=intersections_table[r[0]],\n",
    "                                                     end_intersection=intersections_table[r[1]],\n",
    "                                                     name=None, osmid=r_id, road_string=RoadString(line_string))\n",
    "            tg.add_node(start_node.get_id(), object=start_node)\n",
    "            tg.add_node(end_node.get_id(), object=end_node)\n",
    "            tg.add_edges_from([(start_node.get_id(), end_node.get_id(), {'object': road,\n",
    "                                                                         'distance': road.get_road_length(),\n",
    "                                                                         'traffic': None})])\n",
    "            roads_table[r_id] = road\n",
    "\n",
    "    # Add turn roads, and assign traffic controller to the intersections\n",
    "\n",
    "    for id_, I in intersections_table.items():\n",
    "\n",
    "        for i_node in I.get_nodes():\n",
    "            if i_node.is_incoming():\n",
    "                print(i_node.get_id())\n",
    "                iid = i_node.get_id().split(\"_\")[2]\n",
    "                for o_node in I.get_nodes():\n",
    "                    if not o_node.is_incoming():\n",
    "                        oid = o_node.get_id().split(\"_\")[2]\n",
    "                        if not iid == oid:\n",
    "                            ls = LineString([(i_node.get_x(), i_node.get_y()), (o_node.get_x(), o_node.get_y())])\n",
    "                            turn_road = Road(start_node=i_node, end_node=o_node, road_string=RoadString(ls), name='turn',\n",
    "                                            osmid=i_node.get_id()+str(\"_\")+o_node.get_id())\n",
    "                            tg.add_edges_from([(i_node.get_id(), o_node.get_id(), {'object': turn_road,\n",
    "                                                                                   'distance': turn_road.get_road_length(),\n",
    "                                                                                   'traffic': None})])\n",
    "                            roads_table[i_node.get_id()+str(\"_\")+o_node.get_id()] = turn_road\n",
    "\n",
    "    return tg, intersections_table, roads_table\n",
    "\n",
    "\n",
    "def create_road(start_intersection, end_intersection, name, osmid, road_string):\n",
    "    \"\"\"\n",
    "\n",
    "    :param start_intersection:\n",
    "    :param end_intersection:\n",
    "    :param name:\n",
    "    :param osmid:\n",
    "    :param road_string:\n",
    "    :return:\n",
    "    \"\"\"\n",
    "\n",
    "    x1, y1 = start_intersection.get_x(), start_intersection.get_y()\n",
    "    x2, y2 = end_intersection.get_x(), end_intersection.get_y()\n",
    "\n",
    "    [p1, p2] = get_node_coords(x1, y1, x2, y2, no_of_lanes=3, lane_width=4)\n",
    "    # todo: add utils for no of lanes and width\n",
    "\n",
    "    _id = str(start_intersection.get_osmid()) + \"_\" + str(osmid) + \"_\" + str(end_intersection.get_osmid())\n",
    "    sn1 = Node(point_x=p1[0], point_y=p1[1], incoming=False, parent=start_intersection, _id=_id)\n",
    "    start_intersection.add_node(sn1)\n",
    "\n",
    "    _id = str(end_intersection.get_osmid()) + \"_\" + str(osmid) + \"_\" + str(start_intersection.get_osmid())\n",
    "    sn2 = Node(point_x=p2[0], point_y=p2[1], incoming=True, parent=end_intersection, _id=_id)\n",
    "    end_intersection.add_node(sn2)\n",
    "\n",
    "    road = Road(start_node=sn1, end_node=sn2, road_string=road_string, name=name, osmid=osmid)\n",
    "\n",
    "    return road, sn1, sn2\n",
    "\n",
    "\n",
    "def get_node_coords(x1, y1, x2, y2, no_of_lanes=3, lane_width=4):\n",
    "\n",
    "    \"\"\"\n",
    "    The offset in Point(_ , _) varies if the road is a one way. For now, we only assume two way roads. So each pair of\n",
    "    intersections has two nodes each along the line joining them, one point each for the one side of the road.\n",
    "    :param x1:\n",
    "    :param y1:\n",
    "    :param x2:\n",
    "    :param y2:\n",
    "    :param no_of_lanes:\n",
    "    :param lane_width:\n",
    "    :return:\n",
    "    \"\"\"\n",
    "    road_width = no_of_lanes* lane_width\n",
    "    distance = math.sqrt((x1 - x2) ** 2 + (y1 - y2) ** 2)\n",
    "    slope = math.atan2(y2 - y1, x2 - x1)\n",
    "    fs = (0, 0)\n",
    "    fe = (distance, 0)\n",
    "\n",
    "    fs2 = Point(10, -road_width/2)\n",
    "\n",
    "    # fe1 = Point(distance - 10, 0)\n",
    "    fe2 = Point(distance - 10, -road_width/2)\n",
    "\n",
    "\n",
    "    os2 = rotate(fs2, angle=slope, origin=fs, use_radians=True)\n",
    "    oe2 = rotate(fe2, angle=slope, origin=fs, use_radians=True)\n",
    "\n",
    "    return [(x1 + os2.coords[0][0], y1 + os2.coords[0][1]), (x1 + oe2.coords[0][0], y1 + oe2.coords[0][1])]\n"
   ]
  },
  {
   "cell_type": "code",
   "execution_count": 4,
   "metadata": {},
   "outputs": [
    {
     "ename": "TypeError",
     "evalue": "convert_to_traffic_graph() missing 1 required positional argument: 'roads_inp'",
     "output_type": "error",
     "traceback": [
      "\u001b[0;31m---------------------------------------------------------------------------\u001b[0m",
      "\u001b[0;31mTypeError\u001b[0m                                 Traceback (most recent call last)",
      "\u001b[0;32m<ipython-input-4-e63150e4d936>\u001b[0m in \u001b[0;36m<module>\u001b[0;34m()\u001b[0m\n\u001b[0;32m----> 1\u001b[0;31m \u001b[0mG1\u001b[0m\u001b[0;34m,\u001b[0m \u001b[0mI\u001b[0m \u001b[0;34m=\u001b[0m \u001b[0mconvert_to_traffic_graph\u001b[0m\u001b[0;34m(\u001b[0m\u001b[0mG\u001b[0m\u001b[0;34m)\u001b[0m\u001b[0;34m\u001b[0m\u001b[0m\n\u001b[0m",
      "\u001b[0;31mTypeError\u001b[0m: convert_to_traffic_graph() missing 1 required positional argument: 'roads_inp'"
     ]
    }
   ],
   "source": [
    "G1, I = convert_to_traffic_graph(G)"
   ]
  },
  {
   "cell_type": "code",
   "execution_count": null,
   "metadata": {},
   "outputs": [],
   "source": []
  }
 ],
 "metadata": {
  "kernelspec": {
   "display_name": "Python 3",
   "language": "python",
   "name": "python3"
  },
  "language_info": {
   "codemirror_mode": {
    "name": "ipython",
    "version": 3
   },
   "file_extension": ".py",
   "mimetype": "text/x-python",
   "name": "python",
   "nbconvert_exporter": "python",
   "pygments_lexer": "ipython3",
   "version": "3.6.3"
  }
 },
 "nbformat": 4,
 "nbformat_minor": 2
}
