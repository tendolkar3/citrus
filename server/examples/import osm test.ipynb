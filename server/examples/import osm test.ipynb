{
 "cells": [
  {
   "cell_type": "code",
   "execution_count": null,
   "metadata": {},
   "outputs": [],
   "source": [
    "import osmnx as ox\n",
    "import networkx\n",
    "import math\n",
    "from shapely.geometry import Point, LineString, Polygon\n",
    "from shapely.affinity import rotate"
   ]
  },
  {
   "cell_type": "code",
   "execution_count": null,
   "metadata": {},
   "outputs": [],
   "source": [
    "class Node:\n",
    "    def __init__(self, point_x, point_y, grade=0, id_=None, parent=None):\n",
    "        self.x = point_x\n",
    "        self.x = point_y\n",
    "        self.grade = grade\n",
    "        self.parent = parent\n",
    "        self.id = id_\n",
    "        self.traffic_signals = None  \n",
    "        \n",
    "class Intersection:\n",
    "    def __init__(self, point_x, point_y, grade=0, osmid=None):\n",
    "        self.__x = point_x\n",
    "        self.__y = point_y\n",
    "        self.__grade = grade\n",
    "        self.__osmid = osmid\n",
    "        self.__type = None\n",
    "        self.__nodes = []\n",
    "        \n",
    "    def get_x(self):\n",
    "        return self.__x\n",
    "    \n",
    "    def set_x(self, x):\n",
    "        self.__x = x\n",
    "\n",
    "    def get_y(self):\n",
    "        return self.__y\n",
    "    \n",
    "    def set_y(self, y):\n",
    "        self.__y = y\n",
    "\n",
    "    def get_grade(self):\n",
    "        return self.__grade\n",
    "    \n",
    "    def set_grade(self, grade):\n",
    "        self.__grade = grade\n",
    "\n",
    "    def get_osmid(self):\n",
    "        return self.__osmid\n",
    "    \n",
    "    def set_osmid(self, osmid):\n",
    "        self.__osmid = osmid\n",
    "\n",
    "    def get_nodes(self):\n",
    "        return self.__node\n",
    "    \n",
    "    def set_nodes(self, nodes):\n",
    "        self.__nodes = nodes\n",
    "\n",
    "            \n",
    "\n",
    "class Lane:\n",
    "    def __init__(self, line_string, lane_no):\n",
    "\n",
    "        self.lane_polygon = None\n",
    "        self.lane_center = line_string\n",
    "        # this is a line string, which represents straight (and curved) roads\n",
    "        self.lane_no = None\n",
    "        self.road = None\n",
    "        self.speed_limit = None\n",
    "        self.name = str(self.road.name)+\"-lmsp-\" + str(self.speed_limit)\n",
    "        x, y = self.lane_center.coords.xy\n",
    "        self.start_x = x[0]\n",
    "        self.start_y = y[0]\n",
    "        self.end_x = x[-1]\n",
    "        self.end_y = y[-1]\n",
    "        self.traffic = []\n",
    "        \n",
    "    def insert_car(self, car):\n",
    "        dist_from_nn = car.get_distance_from_next_node()\n",
    "        for i, c in enumerate(self.traffic):\n",
    "            if dist_from_nn > c.get_distance_from_next_node():\n",
    "                pass\n",
    "            else:\n",
    "                self.traffic.insert(i, c)\n",
    "                break\n",
    "        \n",
    "class SubNodeString:\n",
    "    def __init__(self, line_string):\n",
    "        self.__sub_nodes \n",
    "    \n",
    "        \n",
    "\n",
    "class Road:\n",
    "    def __init__(self, start_node=None, end_node=None, _type='straight'):\n",
    "        self.start_node = start_node\n",
    "        self.end_node = end_node\n",
    "        self.type = _type\n",
    "        self.speed_limit = None\n",
    "        self.heading = None\n",
    "        self.length = None\n",
    "        self.no_of_lanes = 2\n",
    "        self.lanes = []\n",
    "        # .lanes will contain the lane objects under this road \n",
    "        self.lane_width = None\n",
    "        self.min_bounding_box = None\n",
    "        self.bounding_polygon = None\n",
    "        self.name = str(self.start_node.id) + \"-\" + str(self.end_node.id) + \"-msp-\" + str(self.speed_limit)\n",
    "\n",
    "\n",
    "class Map:\n",
    "    def __init__(self):\n",
    "        self.__nodes_table= dict()\n",
    "        self.__roads_table= dict()\n",
    "        self.__graph = networkx.DiGraph()\n"
   ]
  },
  {
   "cell_type": "code",
   "execution_count": null,
   "metadata": {},
   "outputs": [],
   "source": [
    "import math\n",
    "\n",
    "def get_perpendicular_segment(theta1, theta2, point):\n",
    "    x, y = point\n",
    "    slope = math.tan((theta1 + theta2)/2)\n",
    "    print(slope)\n",
    "    c = y - slope*x\n",
    "    return 1, -slope, -c\n"
   ]
  },
  {
   "cell_type": "code",
   "execution_count": null,
   "metadata": {},
   "outputs": [],
   "source": [
    "# print(a.index(5))\n",
    "a.remove(5)\n",
    "a"
   ]
  },
  {
   "cell_type": "code",
   "execution_count": null,
   "metadata": {},
   "outputs": [],
   "source": [
    "a= []\n"
   ]
  },
  {
   "cell_type": "code",
   "execution_count": null,
   "metadata": {},
   "outputs": [],
   "source": [
    "point = (0, 0)\n",
    "theta1 = math.pi\n",
    "theta2 = -math.pi/2\n",
    "\n",
    "get_perpendicular_segment(theta1, theta2, point)"
   ]
  },
  {
   "cell_type": "code",
   "execution_count": null,
   "metadata": {},
   "outputs": [],
   "source": [
    "address = '567 Stinchcomb Drive, Columbus, Ohio'\n",
    "distance=300\n",
    "network_type='drive'\n",
    "\n",
    "G = ox.graph_from_address(address, distance)\n",
    "ox.plot_graph(G)"
   ]
  },
  {
   "cell_type": "code",
   "execution_count": null,
   "metadata": {},
   "outputs": [],
   "source": []
  },
  {
   "cell_type": "code",
   "execution_count": 9,
   "metadata": {},
   "outputs": [
    {
     "data": {
      "text/plain": [
       "AtlasView({0: {'oneway': True, 'lanes': '2', 'geometry': <shapely.geometry.linestring.LineString object at 0x7ff46d8c30b8>, 'highway': 'tertiary', 'name': 'Olentangy River Road', 'osmid': 44631792, 'length': 106.80311521767831}})"
      ]
     },
     "execution_count": 9,
     "metadata": {},
     "output_type": "execute_result"
    }
   ],
   "source": [
    "G.succ[229703693][3831576280]\n",
    "\n"
   ]
  },
  {
   "cell_type": "code",
   "execution_count": 8,
   "metadata": {},
   "outputs": [
    {
     "data": {
      "text/plain": [
       "{'highway': 'traffic_signals',\n",
       " 'osmid': 3831576280,\n",
       " 'x': -83.0260721,\n",
       " 'y': 40.0240776}"
      ]
     },
     "execution_count": 8,
     "metadata": {},
     "output_type": "execute_result"
    }
   ],
   "source": [
    "G._node[3831576280]"
   ]
  },
  {
   "cell_type": "code",
   "execution_count": null,
   "metadata": {},
   "outputs": [],
   "source": [
    "nodes_table = dict()\n",
    "roads_table = dict()\n",
    "G1=G\n",
    "for n_start, value in G1.succ.items():\n",
    "    osmid1 = G1._node[n_start]['osmid']\n",
    "    x = G1._node[n_start]['x']\n",
    "    y = G1._node[n_start]['y']\n",
    "    if not osmid1 in nodes_table.keys():\n",
    "        nodes_table[osmid1] = ns = Node(point_x=x,point_y=y, osmid=osmid1)\n",
    "    else:\n",
    "        ns = nodes_table[osmid1]\n",
    "        \n",
    "    for n_end, road in value.items():\n",
    "        osmid2 = G1._node[n_end]['osmid']\n",
    "        x = G1._node[n_end]['x']\n",
    "        y = G1._node[n_end]['y']\n",
    "        \n",
    "        if not osmid2 in nodes_table.keys():\n",
    "            nodes_table[osmid2] = ne = Node(point_x=x,point_y=y, osmid=osmid2)\n",
    "        else:\n",
    "            ne = nodes_table[osmid2]\n",
    "        R = road[0]\n",
    "        print(road[0]['geometry'])\n",
    "        name = R['name'] if 'name' in R.keys() else None\n",
    "        our_road = create_road(start_node = ns, end_node = ne, name=name, osmid=R['osmid'])\n",
    "        \n",
    "        \n",
    "        \n",
    "            \n"
   ]
  },
  {
   "cell_type": "code",
   "execution_count": null,
   "metadata": {},
   "outputs": [],
   "source": [
    "from numpy import sign\n",
    "\n",
    "def get_sub_node_coords(x1, y1, x2, y2):    \n",
    "        \n",
    "    os = (x1,y1)\n",
    "    oe = (x2,y2)\n",
    "    \n",
    "    distance = math.sqrt((x1-x2)**2 + (y1-y2)**2)\n",
    "    slope = math.atan2(y2-y1, x2-x1)\n",
    "    fs = (0,0)\n",
    "    fe = (distance, 0)\n",
    "    \n",
    "    if abs(slope) <= math.pi/2:\n",
    "        fs1 = Point(10, 0)\n",
    "        fs2 = Point(10, -4)\n",
    "\n",
    "        fe1 = Point(distance-10, 0)\n",
    "        fe2 = Point(distance-10, -4)\n",
    "    \n",
    "    else:\n",
    "        fs1 = Point(-10, 0)\n",
    "        fs2 = Point(-10, -4)\n",
    "\n",
    "        fe1 = Point(-distance+10, 0)\n",
    "        fe2 = Point(-distance+10, -4)\n",
    "                \n",
    "    \n",
    "    os2 = rotate(fs2, angle=slope, origin=fs, use_radians=True)\n",
    "    oe2 = rotate(fe2, angle=slope, origin=fs, use_radians=True)\n",
    "         \n",
    "        \n",
    "    return [(x1+ os2.coords[0][0],y1+ os2.coords[0][1]), (x1+ oe2.coords[0][0],y1+ oe2.coords[0][1])]\n",
    "    \n",
    "    \n",
    "    \n",
    "    "
   ]
  },
  {
   "cell_type": "code",
   "execution_count": null,
   "metadata": {},
   "outputs": [],
   "source": [
    "def create_road(start_node, end_node, name, osmid):\n",
    "    \n",
    "    x1,y1 = start_node.x, start_node.y\n",
    "    x2,y2 = end_node.x, end_node.y\n",
    "    \n",
    "    [p1, p2] = get_sub_node_coords(x1, y1, x2, y2)\n",
    "    \n",
    "    # lane 0: (sn1, sn3)\n",
    "    # lane 1: (sn2, sn4)\n",
    "    \n",
    "    sn1 = SubNode(point_x=p1[0], point_y=p1[1], parent=start_node)\n",
    "    sn2 = SubNode(point_x=p2[0], point_y=p2[1], parent=start_node)\n",
    "\n",
    "    \n",
    "#     ls0 = LineString([p1,p3])\n",
    "#     ls1 = LineString([p2,p4])\n",
    "    \n",
    "#     lane_0 = Lane(line_string=ls0, lane_no=0)\n",
    "#     lane_1 = Lane(line_string=ls1, lane_no=1)\n",
    "    \n",
    "    road = Road(start_node=sn1, end_node=sn2)\n",
    "\n",
    "#     road.lanes.append(lane_0)\n",
    "#     road.lanes.append(lane_1)\n",
    "    \n",
    "    return road\n",
    "\n",
    "    \n",
    "    \n",
    "    \n",
    "    \n",
    "    "
   ]
  },
  {
   "cell_type": "code",
   "execution_count": null,
   "metadata": {},
   "outputs": [],
   "source": [
    "l = LineString([(,0),(1,0)])\n",
    "l"
   ]
  },
  {
   "cell_type": "code",
   "execution_count": 48,
   "metadata": {},
   "outputs": [],
   "source": [
    "# from core.lib.maps.map import Intersection, Road, RoadString, Node, SubNode\n",
    "import math\n",
    "from shapely.geometry import Point, LineString, Polygon\n",
    "from shapely.affinity import rotate\n",
    "import networkx as nx\n",
    "import os\n",
    "import sys\n",
    "module_path = os.path.abspath(os.path.join('..'))\n",
    "if module_path not in sys.path:\n",
    "    sys.path.append(module_path)\n",
    "from core.lib.maps.map import Intersection, Road, RoadString, Node, SubNode\n",
    "\n",
    "\n",
    "def convert_to_traffic_graph(G):\n",
    "\n",
    "    intersections_table = dict()\n",
    "    roads_table = dict()\n",
    "    tg = nx.DiGraph()\n",
    "\n",
    "    for n_start, value in G.succ.items():\n",
    "        osmid = G._node[n_start]['osmid']\n",
    "        x = G._node[n_start]['x']\n",
    "        y = G._node[n_start]['y']\n",
    "        if not osmid in intersections_table.keys():\n",
    "            intersections_table[osmid] = ns = Intersection(point_x=x, point_y=y, osmid=osmid)\n",
    "        else:\n",
    "            ns = intersections_table[osmid]\n",
    "\n",
    "        for n_end, road in value.items():\n",
    "            osmid = G._node[n_end]['osmid']\n",
    "            x = G._node[n_end]['x']\n",
    "            y = G._node[n_end]['y']\n",
    "\n",
    "            if not osmid in intersections_table.keys():\n",
    "                intersections_table[osmid] = ne = Intersection(point_x=x, point_y=y, osmid=osmid)\n",
    "            else:\n",
    "                ne = intersections_table[osmid]\n",
    "            R = road[0]\n",
    "            name = R['name'] if 'name' in R.keys() else None\n",
    "            if 'geometry' in R.keys():\n",
    "                road_string = RoadString(R['geometry'])\n",
    "            else:\n",
    "                ls = LineString([(G._node[n_start]['x'],G._node[n_start]['y']),\n",
    "                                 (G._node[n_end]['x'],G._node[n_end]['y'])])\n",
    "                road_string = RoadString(ls)\n",
    "#             print(road_string)\n",
    "            our_road, start_node, end_node = create_road(\n",
    "                start_intersection=ns, end_intersection=ne, name=name, osmid=R['osmid'], road_string=road_string)\n",
    "\n",
    "            if (start_node.get_x() is None) or (end_node.get_x() is None):\n",
    "                print('yes')\n",
    "    \n",
    "            tg.add_node(start_node.get_id(), x=start_node.get_x(), y=start_node.get_y())\n",
    "            tg.add_node(start_node.get_id(), x=end_node.get_x(), y=end_node.get_y())\n",
    "            tg.add_edges_from([(start_node.get_id(), end_node.get_id(), {'object': our_road,\n",
    "                                                                         'distance': our_road.get_road_length(),\n",
    "                                                                         'traffic': None})])\n",
    "    # fixme: add turn roads connecting the roads across intersections\n",
    "    for id_, I in intersections_table.items():\n",
    "        \n",
    "        for i_node in I.get_nodes():\n",
    "            if i_node.is_incoming():\n",
    "                iid = i_node.get_id().split(\"_\")[1]\n",
    "                for o_node in I.get_nodes():\n",
    "                    if not o_node.is_incoming():\n",
    "                        oid = o_node.get_id().split(\"_\")[1]\n",
    "                        if not iid == oid:\n",
    "                            ls = LineString([(i_node.get_x(),i_node.get_y()), (o_node.get_x(),o_node.get_y())])\n",
    "                            our_road = Road(start_node=i_node, end_node=o_node, road_string=RoadString(ls), name='turn',\n",
    "                                           osmid='turn')\n",
    "                            tg.add_edges_from([(i_node.get_id(), o_node.get_id(), {'object': our_road,\n",
    "                                                                                   'distance': our_road.get_road_length(),\n",
    "                                                                                   'traffic': None})])\n",
    "\n",
    "    \n",
    "    return tg, intersections_table\n",
    "\n",
    "\n",
    "def create_road(start_intersection, end_intersection, name, osmid, road_string):\n",
    "    \"\"\"\n",
    "\n",
    "    :param start_intersection:\n",
    "    :param end_intersection:\n",
    "    :param name:\n",
    "    :param osmid:\n",
    "    :param road_string:\n",
    "    :return:\n",
    "    \"\"\"\n",
    "\n",
    "    x1, y1 = start_intersection.get_x(), start_intersection.get_y()\n",
    "    x2, y2 = end_intersection.get_x(), end_intersection.get_y()\n",
    "\n",
    "    [p1, p2] = get_node_coords(x1, y1, x2, y2, no_of_lanes=3, lane_width=4)\n",
    "    # todo: add utils for no of lanes and width\n",
    "\n",
    "    # lane 0: (sn1, sn3)\n",
    "    # lane 1: (sn2, sn4)\n",
    "    id = str(start_intersection.get_osmid()) + \"_\" + str(osmid) + \"_\" + str(end_intersection.get_osmid())\n",
    "    sn1 = Node(point_x=p1[0], point_y=p1[1], incoming=False, parent=start_intersection, _id=id)\n",
    "    start_intersection.add_node(sn1)\n",
    "    # copy into pycharm\n",
    "    id = str(end_intersection.get_osmid()) + \"_\" + str(osmid) + \"_\" + str(start_intersection.get_osmid())\n",
    "    sn2 = Node(point_x=p2[0], point_y=p2[1], incoming=True, parent=end_intersection, _id=id)\n",
    "    end_intersection.add_node(sn2)\n",
    "    # copy into pycharm\n",
    "    road = Road(start_node=sn1, end_node=sn2, road_string=road_string, \n",
    "                name=name, osmid=osmid, no_of_lanes=3, lane_width=4, speed_limit=30)\n",
    "\n",
    "    return road, sn1, sn2\n",
    "\n",
    "\n",
    "def get_node_coords(x1, y1, x2, y2, no_of_lanes=3, lane_width=0.1):\n",
    "    # os = (x1, y1)\n",
    "    # oe = (x2, y2)\n",
    "    road_width = no_of_lanes* lane_width\n",
    "    distance = math.sqrt((x1 - x2) ** 2 + (y1 - y2) ** 2)\n",
    "    slope = math.atan2(y2 - y1, x2 - x1)\n",
    "    fs = (0, 0)\n",
    "    fe = (distance, 0)\n",
    "\n",
    "    if abs(slope) <= math.pi / 2:\n",
    "        # fs1 = Point(10, 0)\n",
    "        fs2 = Point(.1, -road_width/20)\n",
    "\n",
    "        # fe1 = Point(distance - 10, 0)\n",
    "        fe2 = Point(distance - .1, -road_width/20)\n",
    "\n",
    "    else:\n",
    "        # fs1 = Point(-10, 0)\n",
    "        fs2 = Point(-.1, -road_width/20)\n",
    "\n",
    "        # fe1 = Point(-distance + 10, 0)\n",
    "        fe2 = Point(-distance + .1, -road_width/20)\n",
    "\n",
    "    os2 = rotate(fs2, angle=slope, origin=fs, use_radians=True)\n",
    "    oe2 = rotate(fe2, angle=slope, origin=fs, use_radians=True)\n",
    "\n",
    "    \n",
    "    return [(x1 + os2.coords[0][0], y1 + os2.coords[0][1]), (x1 + oe2.coords[0][0], y1 + oe2.coords[0][1])]\n",
    "\n"
   ]
  },
  {
   "cell_type": "code",
   "execution_count": 21,
   "metadata": {},
   "outputs": [
    {
     "data": {
      "image/png": "[encoded data removed]",
      "text/plain": [
       "<matplotlib.figure.Figure at 0x7fd552c94ac8>"
      ]
     },
     "metadata": {},
     "output_type": "display_data"
    },
    {
     "data": {
      "text/plain": [
       "(<matplotlib.figure.Figure at 0x7fd552c94ac8>,\n",
       " <matplotlib.axes._subplots.AxesSubplot at 0x7fd5580cfe80>)"
      ]
     },
     "execution_count": 21,
     "metadata": {},
     "output_type": "execute_result"
    }
   ],
   "source": [
    "import osmnx as ox\n",
    "\n",
    "address = '567 Stinchcomb Drive, Columbus, Ohio'\n",
    "distance=300\n",
    "network_type='drive'\n",
    "\n",
    "G = ox.project_graph(ox.graph_from_address(address, distance))\n",
    "ox.plot_graph(G)\n",
    "\n"
   ]
  },
  {
   "cell_type": "code",
   "execution_count": 49,
   "metadata": {},
   "outputs": [],
   "source": [
    "G1, I = convert_to_traffic_graph(G)"
   ]
  },
  {
   "cell_type": "code",
   "execution_count": 10,
   "metadata": {},
   "outputs": [],
   "source": [
    "t=[]\n",
    "for _,x in G1.nodes(data='x'):\n",
    "    if x is None:\n",
    "        t.append(_)"
   ]
  },
  {
   "cell_type": "code",
   "execution_count": 50,
   "metadata": {},
   "outputs": [
    {
     "data": {
      "image/png": "[encoded data removed]",
      "text/plain": [
       "<matplotlib.figure.Figure at 0x7fd5517afbe0>"
      ]
     },
     "metadata": {},
     "output_type": "display_data"
    }
   ],
   "source": [
    "%matplotlib inline\n",
    "import mpld3\n",
    "from matplotlib import pyplot as plt\n",
    "\n",
    "mpld3.enable_notebook()\n",
    "\n",
    "fig, axis = plt.subplots(1,1)\n",
    "# print(len(I))\n",
    "for i, v in I.items():\n",
    "    axis.scatter(v.get_x(), v.get_y(),marker='o' ,c='blue')\n",
    "    \n",
    "    for node in v.get_nodes():\n",
    "        axis.scatter(node.get_x(), node.get_y(), marker='+', c='red')\n",
    "        \n",
    "for edge in G1.edges(data=True):\n",
    "    road = edge[2]['object']\n",
    "    if not road.get_name() == 'turn':\n",
    "#         continue\n",
    "        road_string = road.get_road_string()\n",
    "        line_string = road_string.get_line_string()\n",
    "        x,y = line_string.coords.xy\n",
    "        axis.plot(x,y, 'green')\n",
    "        "
   ]
  },
  {
   "cell_type": "code",
   "execution_count": 51,
   "metadata": {},
   "outputs": [
    {
     "data": {
      "image/png": "[encoded data removed]",
      "text/plain": [
       "<matplotlib.figure.Figure at 0x7fd5518dd2b0>"
      ]
     },
     "metadata": {},
     "output_type": "display_data"
    }
   ],
   "source": [
    "%matplotlib inline\n",
    "import mpld3\n",
    "mpld3.enable_notebook()\n",
    "\n",
    "import matplotlib.pyplot as plt\n",
    "\n",
    "fig, axes = plt.subplots(1)\n",
    "for edge in G1.edges(data=True):\n",
    "    road = edge[2]['object']\n",
    "    if not road.get_name() == 'turn':\n",
    "#         continue\n",
    "        road_string = road.get_road_string()\n",
    "        line_string = road_string.get_line_string()\n",
    "        x,y = line_string.coords.xy\n",
    "        plt.plot(x,y, 'green')\n",
    "    else:\n",
    "#         continue\n",
    "        road_string = road.get_road_string()\n",
    "        line_string = road_string.get_line_string()\n",
    "        x,y = line_string.coords.xy\n",
    "        plt.plot(x,y, 'red')\n",
    "        \n",
    "    "
   ]
  },
  {
   "cell_type": "code",
   "execution_count": 75,
   "metadata": {},
   "outputs": [
    {
     "data": {
      "text/plain": [
       "(AdjacencyView({3831576300: {0: {'oneway': True, 'lanes': '2', 'geometry': <shapely.geometry.linestring.LineString object at 0x7ff46d698240>, 'highway': 'tertiary', 'name': 'Olentangy River Road', 'osmid': 542180454, 'length': 18.526908704495426}}}),\n",
       " AdjacencyView({229703693: {0: {'oneway': True, 'lanes': '2', 'geometry': <shapely.geometry.linestring.LineString object at 0x7ff46d8c30b8>, 'highway': 'tertiary', 'name': 'Olentangy River Road', 'osmid': 44631792, 'length': 106.80311521767831}}, 229703709: {0: {'oneway': False, 'geometry': <shapely.geometry.linestring.LineString object at 0x7ff46d7325c0>, 'highway': 'residential', 'name': 'Riverview Drive', 'osmid': 21356684, 'length': 499.46387343130692}}}),\n",
       " AdjacencyView({}))"
      ]
     },
     "execution_count": 75,
     "metadata": {},
     "output_type": "execute_result"
    }
   ],
   "source": [
    "\n",
    "G.succ[229703693], G.succ[3831576280], G.succ[3831576300]\n",
    "G.pred[229703693], G.pred[3831576280], G.pred[3831576300]"
   ]
  },
  {
   "cell_type": "markdown",
   "metadata": {},
   "source": [
    "229732855 {5242033209: {0: {'length': 46.814877752563419, 'highway': 'residential', 'geometry': <shapely.geometry.linestring.LineString object at 0x7f4c086ce828>, 'osmid': 21405600, 'oneway': False, 'name': 'Harley Drive'}}, 5242033228: {0: {'length': 257.44784362312402, 'highway': 'residential', 'geometry': <shapely.geometry.linestring.LineString object at 0x7f4c086ce7b8>, 'osmid': 21405600, 'oneway': False, 'name': 'Harley Drive'}}, 229732876: {0: {'length': 194.37394018956027, 'highway': 'residential', 'geometry': <shapely.geometry.linestring.LineString object at 0x7f4c086ce748>, 'osmid': 21359082, 'oneway': False, 'name': 'St Johns Court'}}}"
   ]
  }
 ],
 "metadata": {
  "kernelspec": {
   "display_name": "Python 3",
   "language": "python",
   "name": "python3"
  },
  "language_info": {
   "codemirror_mode": {
    "name": "ipython",
    "version": 3
   },
   "file_extension": ".py",
   "mimetype": "text/x-python",
   "name": "python",
   "nbconvert_exporter": "python",
   "pygments_lexer": "ipython3",
   "version": "3.5.2"
  }
 },
 "nbformat": 4,
 "nbformat_minor": 2
}
