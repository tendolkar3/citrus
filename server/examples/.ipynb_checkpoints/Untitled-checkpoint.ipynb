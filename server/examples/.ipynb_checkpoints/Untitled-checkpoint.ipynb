{
 "cells": [
  {
   "cell_type": "code",
   "execution_count": 69,
   "metadata": {},
   "outputs": [],
   "source": [
    "import osmnx as ox\n",
    "import networkx\n",
    "import math\n",
    "from shapely.geometry import Point, LineString, Polygon\n",
    "from shapely.affinity import rotate"
   ]
  },
  {
   "cell_type": "code",
   "execution_count": 59,
   "metadata": {},
   "outputs": [],
   "source": [
    "class SubNode:\n",
    "    def __init__(self, point_x, point_y, grade=0, id_=None, parent=None):\n",
    "        self.x = point_x\n",
    "        self.x = point_y\n",
    "        self.grade = grade\n",
    "        self.parent = parent\n",
    "        self.id = id_\n",
    "        self.traffic_signals = None  \n",
    "        \n",
    "class Node:\n",
    "    def __init__(self, point_x, point_y, grade=0, osmid=None):\n",
    "        self.x = point_x\n",
    "        self.y = point_y\n",
    "        self.grade = grade\n",
    "        self.osmid = osmid\n",
    "        self.type = None\n",
    "        self.subnodes = []\n",
    "        \n",
    "\n",
    "class Lane:\n",
    "    def __init__(self, polygon, line_string, lane_no):\n",
    "\n",
    "        self.lane_polygon = None\n",
    "        self.lane_center = line_string\n",
    "        # this is a line string, which represents straight (and curved) roads\n",
    "        self.lane_no = None\n",
    "        self.road = None\n",
    "        self.speed_limit = None\n",
    "        self.name = str(self.road.name)+\"-lmsp-\" + str(self.speed_limit)\n",
    "        x, y = self.lane_center.coords.xy\n",
    "        self.start_x = x[0]\n",
    "        self.start_y = y[0]\n",
    "        self.end_x = x[-1]\n",
    "        self.end_y = y[-1]\n",
    "        self.traffic = []\n",
    "        \n",
    "    def insert_car(self, car):\n",
    "        dist_from_nn = car.get_distance_from_next_node()\n",
    "        for i, c in enumerate(self.traffic):\n",
    "            if dist_from_nn > c.get_distance_from_next_node():\n",
    "                pass\n",
    "            else:\n",
    "                self.traffic.insert(i, c)\n",
    "                break\n",
    "        \n",
    "\n",
    "class Road:\n",
    "    def __init__(self, start_node=None, end_node=None, _type='straight'):\n",
    "        self.start_node = start_node\n",
    "        self.end_node = end_node\n",
    "        self.type = _type\n",
    "        self.speed_limit = None\n",
    "        self.heading = None\n",
    "        self.length = None\n",
    "        self.no_of_lanes = 2\n",
    "        self.lanes = []\n",
    "        # .lanes will contain the lane objects under this road \n",
    "        self.lane_width = lane_width\n",
    "        self.min_bounding_box = None\n",
    "        self.bounding_polygon = None\n",
    "        self.name = str(self.start_node.id) + \"-\" + str(self.end_node.id) + \"-msp-\" + str(self.speed_limit)\n",
    "\n",
    "\n",
    "class Map:\n",
    "    def __init__(self):\n",
    "        self.__nodes_table= dict()\n",
    "        self.__roads_table= dict()\n",
    "        self.__graph = networkx.DiGraph()\n"
   ]
  },
  {
   "cell_type": "code",
   "execution_count": 58,
   "metadata": {},
   "outputs": [],
   "source": [
    "address = '567 Stinchcomb Drive, Columbus, Ohio'\n",
    "distance=300\n",
    "network_type='drive'\n",
    "\n",
    "G1 = ox.graph_from_address(address, distance)\n",
    "# ox.plot_graph(G1)"
   ]
  },
  {
   "cell_type": "code",
   "execution_count": 61,
   "metadata": {},
   "outputs": [
    {
     "ename": "SyntaxError",
     "evalue": "unexpected EOF while parsing (<ipython-input-61-53a8d57c5a3a>, line 8)",
     "output_type": "error",
     "traceback": [
      "\u001b[0;36m  File \u001b[0;32m\"<ipython-input-61-53a8d57c5a3a>\"\u001b[0;36m, line \u001b[0;32m8\u001b[0m\n\u001b[0;31m    \u001b[0m\n\u001b[0m    ^\u001b[0m\n\u001b[0;31mSyntaxError\u001b[0m\u001b[0;31m:\u001b[0m unexpected EOF while parsing\n"
     ]
    }
   ],
   "source": [
    "nodes_table = dict()\n",
    "roads_table = dict()\n",
    "\n",
    "for n_start, value in G1.succ.items():\n",
    "    osmid1 = G1._node[n_start]['osmid']\n",
    "    x = G1._node[n_start]['x']\n",
    "    y = G1._node[n_start]['y']\n",
    "    if not osmid1 in nodes_table.keys():\n",
    "        nodes_table[osmid1] = ns = Node(point_x=x,point_y=y, osmid=osmid1)\n",
    "    else:\n",
    "        ns = nodes_table[osmid1]\n",
    "        \n",
    "    for n_end, road in value.items():\n",
    "        osmid2 = G1._node[n_end]['osmid']\n",
    "        x = G1._node[n_end]['x']\n",
    "        y = G1._node[n_end]['y']\n",
    "        \n",
    "        if not osmid2 in nodes_table.keys():\n",
    "            nodes_table[osmid2] = ne = Node(point_x=x,point_y=y, osmid=osmid2)\n",
    "        else:\n",
    "            ne = nodes_table[osmid2]\n",
    "        R = road[0]\n",
    "        name = R['name'] if 'name' in R.keys() else None\n",
    "        our_road = create_road(start_node = ns, end_node = ne, name=name, osmid=R['osmid'])\n",
    "        \n",
    "        \n",
    "            \n"
   ]
  },
  {
   "cell_type": "code",
   "execution_count": 139,
   "metadata": {},
   "outputs": [],
   "source": [
    "from numpy import sign\n",
    "\n",
    "def create_road(x1,y1, x2, y2):    \n",
    "    \n",
    "#     x1 = start_node.x\n",
    "#     y1 = start_node.y\n",
    "#     x2 = end_node.x\n",
    "#     y2 = end_node.y\n",
    "    \n",
    "    p1 = Point(x1,y1)\n",
    "    p2 = Point(x2,y2)\n",
    "    distance = math.sqrt((x1-x2)**2 + (y1-y2)**2)\n",
    "    alpha = 10/distance\n",
    "    origin = Point(0,0)\n",
    "    end = Point(distance, 0)\n",
    "    \n",
    "    slope = math.atan2(y2-y1, x2-x1)\n",
    "    print(slope)\n",
    "    if abs(slope) <= math.pi/2:\n",
    "        p3 = Point(10, 0)\n",
    "        p4 = Point(10, -2)\n",
    "        p5 = Point(10, -6)\n",
    "    else:\n",
    "        p3 = Point(-10, 0)\n",
    "        p4 = Point(-10, -2)\n",
    "        p5 = Point(-10, -6)\n",
    "        \n",
    "        \n",
    "        \n",
    "    print(p3)\n",
    "    \n",
    "    if abs(slope)<pi:\n",
    "        p4p = rotate(p4, angle=-slope, origin=origin, use_radians=True)\n",
    "        p5p = rotate(p5, angle=-slope, origin=origin, use_radians=True)\n",
    "    else:\n",
    "        p4p = rotate(p4, angle=0, origin=origin, use_radians=True)\n",
    "        p5p = rotate(p5, angle=0, origin=origin, use_radians=True)\n",
    "         \n",
    "        \n",
    "    return (x1+ p4p.coords[0][0],y1+ p4p.coords[0][1]), (x1 + p5p.coords[0][0],y1 + p5p.coords[0][1])\n",
    "    \n",
    "    \n",
    "    \n",
    "    "
   ]
  },
  {
   "cell_type": "code",
   "execution_count": 140,
   "metadata": {},
   "outputs": [
    {
     "name": "stdout",
     "output_type": "stream",
     "text": [
      "3.141592653589793\n",
      "POINT (-10 0)\n",
      "(210.0, 2.0) (210.0, 6.0)\n"
     ]
    }
   ],
   "source": [
    "p4,p5=create_road(200,0,100,0)\n",
    "print(p4, p5)\n"
   ]
  },
  {
   "cell_type": "code",
   "execution_count": 60,
   "metadata": {},
   "outputs": [
    {
     "data": {
      "text/plain": [
       "{'osmid': 5242033209, 'x': -83.0312185, 'y': 40.0212356}"
      ]
     },
     "execution_count": 60,
     "metadata": {},
     "output_type": "execute_result"
    }
   ],
   "source": [
    "G1._node[5242033209]"
   ]
  },
  {
   "cell_type": "markdown",
   "metadata": {},
   "source": [
    "229732855 {5242033209: {0: {'length': 46.814877752563419, 'highway': 'residential', 'geometry': <shapely.geometry.linestring.LineString object at 0x7f4c086ce828>, 'osmid': 21405600, 'oneway': False, 'name': 'Harley Drive'}}, 5242033228: {0: {'length': 257.44784362312402, 'highway': 'residential', 'geometry': <shapely.geometry.linestring.LineString object at 0x7f4c086ce7b8>, 'osmid': 21405600, 'oneway': False, 'name': 'Harley Drive'}}, 229732876: {0: {'length': 194.37394018956027, 'highway': 'residential', 'geometry': <shapely.geometry.linestring.LineString object at 0x7f4c086ce748>, 'osmid': 21359082, 'oneway': False, 'name': 'St Johns Court'}}}"
   ]
  }
 ],
 "metadata": {
  "kernelspec": {
   "display_name": "Python 3",
   "language": "python",
   "name": "python3"
  },
  "language_info": {
   "codemirror_mode": {
    "name": "ipython",
    "version": 3
   },
   "file_extension": ".py",
   "mimetype": "text/x-python",
   "name": "python",
   "nbconvert_exporter": "python",
   "pygments_lexer": "ipython3",
   "version": "3.5.2"
  }
 },
 "nbformat": 4,
 "nbformat_minor": 2
}
