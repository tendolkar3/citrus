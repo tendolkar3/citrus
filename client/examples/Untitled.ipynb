{
 "cells": [
  {
   "cell_type": "code",
   "execution_count": 1,
   "metadata": {},
   "outputs": [],
   "source": [
    "import osmnx as ox\n",
    "import networkx\n",
    "import math\n",
    "from shapely.geometry import Point, LineString, Polygon\n",
    "from shapely.affinity import rotate"
   ]
  },
  {
   "cell_type": "code",
   "execution_count": 10,
   "metadata": {},
   "outputs": [],
   "source": [
    "class SubNode:\n",
    "    def __init__(self, point_x, point_y, grade=0, id_=None, parent=None):\n",
    "        self.x = point_x\n",
    "        self.x = point_y\n",
    "        self.grade = grade\n",
    "        self.parent = parent\n",
    "        self.id = id_\n",
    "        self.traffic_signals = None  \n",
    "        \n",
    "class Node:\n",
    "    def __init__(self, point_x, point_y, grade=0, osmid=None):\n",
    "        self.x = point_x\n",
    "        self.y = point_y\n",
    "        self.grade = grade\n",
    "        self.osmid = osmid\n",
    "        self.type = None\n",
    "        self.subnodes = []\n",
    "        \n",
    "\n",
    "class Lane:\n",
    "    def __init__(self, line_string, lane_no):\n",
    "\n",
    "        self.lane_polygon = None\n",
    "        self.lane_center = line_string\n",
    "        # this is a line string, which represents straight (and curved) roads\n",
    "        self.lane_no = None\n",
    "        self.road = None\n",
    "        self.speed_limit = None\n",
    "        self.name = str(self.road.name)+\"-lmsp-\" + str(self.speed_limit)\n",
    "        x, y = self.lane_center.coords.xy\n",
    "        self.start_x = x[0]\n",
    "        self.start_y = y[0]\n",
    "        self.end_x = x[-1]\n",
    "        self.end_y = y[-1]\n",
    "        self.traffic = []\n",
    "        \n",
    "    def insert_car(self, car):\n",
    "        dist_from_nn = car.get_distance_from_next_node()\n",
    "        for i, c in enumerate(self.traffic):\n",
    "            if dist_from_nn > c.get_distance_from_next_node():\n",
    "                pass\n",
    "            else:\n",
    "                self.traffic.insert(i, c)\n",
    "                break\n",
    "        \n",
    "\n",
    "class Road:\n",
    "    def __init__(self, start_node=None, end_node=None, _type='straight'):\n",
    "        self.start_node = start_node\n",
    "        self.end_node = end_node\n",
    "        self.type = _type\n",
    "        self.speed_limit = None\n",
    "        self.heading = None\n",
    "        self.length = None\n",
    "        self.no_of_lanes = 2\n",
    "        self.lanes = []\n",
    "        # .lanes will contain the lane objects under this road \n",
    "        self.lane_width = None\n",
    "        self.min_bounding_box = None\n",
    "        self.bounding_polygon = None\n",
    "        self.name = str(self.start_node.id) + \"-\" + str(self.end_node.id) + \"-msp-\" + str(self.speed_limit)\n",
    "\n",
    "\n",
    "class Map:\n",
    "    def __init__(self):\n",
    "        self.__nodes_table= dict()\n",
    "        self.__roads_table= dict()\n",
    "        self.__graph = networkx.DiGraph()\n"
   ]
  },
  {
   "cell_type": "code",
   "execution_count": 3,
   "metadata": {},
   "outputs": [],
   "source": [
    "address = '567 Stinchcomb Drive, Columbus, Ohio'\n",
    "distance=300\n",
    "network_type='drive'\n",
    "\n",
    "G1 = ox.graph_from_address(address, distance)\n",
    "# ox.plot_graph(G1)"
   ]
  },
  {
   "cell_type": "code",
   "execution_count": 11,
   "metadata": {},
   "outputs": [],
   "source": [
    "nodes_table = dict()\n",
    "roads_table = dict()\n",
    "\n",
    "for n_start, value in G1.succ.items():\n",
    "    osmid1 = G1._node[n_start]['osmid']\n",
    "    x = G1._node[n_start]['x']\n",
    "    y = G1._node[n_start]['y']\n",
    "    if not osmid1 in nodes_table.keys():\n",
    "        nodes_table[osmid1] = ns = Node(point_x=x,point_y=y, osmid=osmid1)\n",
    "    else:\n",
    "        ns = nodes_table[osmid1]\n",
    "        \n",
    "    for n_end, road in value.items():\n",
    "        osmid2 = G1._node[n_end]['osmid']\n",
    "        x = G1._node[n_end]['x']\n",
    "        y = G1._node[n_end]['y']\n",
    "        \n",
    "        if not osmid2 in nodes_table.keys():\n",
    "            nodes_table[osmid2] = ne = Node(point_x=x,point_y=y, osmid=osmid2)\n",
    "        else:\n",
    "            ne = nodes_table[osmid2]\n",
    "        R = road[0]\n",
    "        name = R['name'] if 'name' in R.keys() else None\n",
    "        our_road = create_road(start_node = ns, end_node = ne, name=name, osmid=R['osmid'])\n",
    "        \n",
    "        \n",
    "        \n",
    "            \n"
   ]
  },
  {
   "cell_type": "code",
   "execution_count": 5,
   "metadata": {},
   "outputs": [],
   "source": [
    "from numpy import sign\n",
    "\n",
    "def get_sub_node_coords(x1, y1, x2, y2):    \n",
    "        \n",
    "    os = (x1,y1)\n",
    "    oe = (x2,y2)\n",
    "    \n",
    "    distance = math.sqrt((x1-x2)**2 + (y1-y2)**2)\n",
    "    slope = math.atan2(y2-y1, x2-x1)\n",
    "    fs = (0,0)\n",
    "    fe = (distance, 0)\n",
    "    \n",
    "    if abs(slope) <= math.pi/2:\n",
    "        fs1 = Point(10, 0)\n",
    "        fs2 = Point(10, -4)\n",
    "\n",
    "        fe1 = Point(distance-10, 0)\n",
    "        fe2 = Point(distance-10, -4)\n",
    "    \n",
    "    else:\n",
    "        fs1 = Point(-10, 0)\n",
    "        fs2 = Point(-10, -4)\n",
    "\n",
    "        fe1 = Point(-distance+10, 0)\n",
    "        fe2 = Point(-distance+10, -4)\n",
    "                \n",
    "    \n",
    "    os2 = rotate(fs2, angle=slope, origin=fs, use_radians=True)\n",
    "    oe2 = rotate(fe2, angle=slope, origin=fs, use_radians=True)\n",
    "         \n",
    "        \n",
    "    return [(x1+ os2.coords[0][0],y1+ os2.coords[0][1]), (x1+ oe2.coords[0][0],y1+ oe2.coords[0][1])]\n",
    "    \n",
    "    \n",
    "    \n",
    "    "
   ]
  },
  {
   "cell_type": "code",
   "execution_count": 8,
   "metadata": {},
   "outputs": [],
   "source": [
    "def create_road(start_node, end_node, name, osmid):\n",
    "    \n",
    "    x1,y1 = start_node.x, start_node.y\n",
    "    x2,y2 = end_node.x, end_node.y\n",
    "    \n",
    "    [p1, p2] = get_sub_node_coords(x1, y1, x2, y2)\n",
    "    \n",
    "    # lane 0: (sn1, sn3)\n",
    "    # lane 1: (sn2, sn4)\n",
    "    \n",
    "    sn1 = SubNode(point_x=p1[0], point_y=p1[1], parent=start_node)\n",
    "    sn2 = SubNode(point_x=p2[0], point_y=p2[1], parent=start_node)\n",
    "\n",
    "    \n",
    "#     ls0 = LineString([p1,p3])\n",
    "#     ls1 = LineString([p2,p4])\n",
    "    \n",
    "#     lane_0 = Lane(line_string=ls0, lane_no=0)\n",
    "#     lane_1 = Lane(line_string=ls1, lane_no=1)\n",
    "    \n",
    "    road = Road(start_node=sn1, end_node=sn2)\n",
    "\n",
    "#     road.lanes.append(lane_0)\n",
    "#     road.lanes.append(lane_1)\n",
    "    \n",
    "    return road\n",
    "\n",
    "    \n",
    "    \n",
    "    \n",
    "    \n",
    "    "
   ]
  },
  {
   "cell_type": "code",
   "execution_count": 180,
   "metadata": {},
   "outputs": [
    {
     "data": {
      "image/svg+xml": [
       "<svg xmlns=\"http://www.w3.org/2000/svg\" xmlns:xlink=\"http://www.w3.org/1999/xlink\" width=\"100.0\" height=\"100.0\" viewBox=\"-0.04 -0.04 1.08 0.08\" preserveAspectRatio=\"xMinYMin meet\"><g transform=\"matrix(1,0,0,-1,0,0.0)\"><polyline fill=\"none\" stroke=\"#66cc99\" stroke-width=\"0.0216\" points=\"0.0,0.0 1.0,0.0\" opacity=\"0.8\" /></g></svg>"
      ],
      "text/plain": [
       "<shapely.geometry.linestring.LineString at 0x7f4c03341390>"
      ]
     },
     "execution_count": 180,
     "metadata": {},
     "output_type": "execute_result"
    }
   ],
   "source": [
    "l = LineString([(,0),(1,0)])\n",
    "l"
   ]
  },
  {
   "cell_type": "code",
   "execution_count": 60,
   "metadata": {},
   "outputs": [
    {
     "data": {
      "text/plain": [
       "{'osmid': 5242033209, 'x': -83.0312185, 'y': 40.0212356}"
      ]
     },
     "execution_count": 60,
     "metadata": {},
     "output_type": "execute_result"
    }
   ],
   "source": [
    "G1._node[5242033209]"
   ]
  },
  {
   "cell_type": "markdown",
   "metadata": {},
   "source": [
    "229732855 {5242033209: {0: {'length': 46.814877752563419, 'highway': 'residential', 'geometry': <shapely.geometry.linestring.LineString object at 0x7f4c086ce828>, 'osmid': 21405600, 'oneway': False, 'name': 'Harley Drive'}}, 5242033228: {0: {'length': 257.44784362312402, 'highway': 'residential', 'geometry': <shapely.geometry.linestring.LineString object at 0x7f4c086ce7b8>, 'osmid': 21405600, 'oneway': False, 'name': 'Harley Drive'}}, 229732876: {0: {'length': 194.37394018956027, 'highway': 'residential', 'geometry': <shapely.geometry.linestring.LineString object at 0x7f4c086ce748>, 'osmid': 21359082, 'oneway': False, 'name': 'St Johns Court'}}}"
   ]
  }
 ],
 "metadata": {
  "kernelspec": {
   "display_name": "Python 3",
   "language": "python",
   "name": "python3"
  },
  "language_info": {
   "codemirror_mode": {
    "name": "ipython",
    "version": 3
   },
   "file_extension": ".py",
   "mimetype": "text/x-python",
   "name": "python",
   "nbconvert_exporter": "python",
   "pygments_lexer": "ipython3",
   "version": "3.5.2"
  }
 },
 "nbformat": 4,
 "nbformat_minor": 2
}
